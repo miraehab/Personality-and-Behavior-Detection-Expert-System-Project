{
 "cells": [
  {
   "cell_type": "code",
   "execution_count": 4,
   "id": "e2809be4",
   "metadata": {},
   "outputs": [],
   "source": [
    "import sys\n",
    "sys.path.append(\"./Project\")\n",
    "\n",
    "import driver"
   ]
  },
  {
   "cell_type": "code",
   "execution_count": 5,
   "id": "8537f488",
   "metadata": {},
   "outputs": [],
   "source": [
    "import shutil, os\n",
    "if os.path.exists('./Project/compiled_krb/'):\n",
    "    shutil.rmtree('./Project/compiled_krb/')"
   ]
  },
  {
   "cell_type": "code",
   "execution_count": 6,
   "id": "c8c433d8",
   "metadata": {},
   "outputs": [
    {
     "name": "stdout",
     "output_type": "stream",
     "text": [
      "doing proof\n",
      "______________________________________________________________________________\n",
      "I'm good at coming up with new ideas. rate yourself from 1 to 8\n",
      "\n",
      "  1. 1\n",
      "  2. 2\n",
      "  3. 3\n",
      "  4. 4\n",
      "  5. 5\n",
      "  6. 6\n",
      "  7. 7\n",
      "  8. 8\n",
      "? [1-8] 6\n",
      "______________________________________________________________________________\n",
      "I'm curious about how things work. rate yourself from 1 to 8\n",
      "\n",
      "  1. 1\n",
      "  2. 2\n",
      "  3. 3\n",
      "  4. 4\n",
      "  5. 5\n",
      "  6. 6\n",
      "  7. 7\n",
      "  8. 8\n",
      "? [1-8] 6\n",
      "______________________________________________________________________________\n",
      "I appreciate being around diverse groups of people. rate yourself from 1 to 8\n",
      "\n",
      "  1. 1\n",
      "  2. 2\n",
      "  3. 3\n",
      "  4. 4\n",
      "  5. 5\n",
      "  6. 6\n",
      "  7. 7\n",
      "  8. 8\n",
      "? [1-8] 7\n",
      "______________________________________________________________________________\n",
      "I would prefer to have a theoretical discussion rather than making small talk. rate yourself from 1 to 8\n",
      "\n",
      "  1. 1\n",
      "  2. 2\n",
      "  3. 3\n",
      "  4. 4\n",
      "  5. 5\n",
      "  6. 6\n",
      "  7. 7\n",
      "  8. 8\t\t\t\n",
      "? [1-8] 8\n",
      "You Personality is: lively\n",
      "\n",
      "done\n"
     ]
    }
   ],
   "source": [
    "driver.test_questions()"
   ]
  },
  {
   "cell_type": "code",
   "execution_count": 7,
   "id": "74ffa0d6",
   "metadata": {},
   "outputs": [
    {
     "name": "stdout",
     "output_type": "stream",
     "text": [
      "doing proof\n",
      "______________________________________________________________________________\n",
      "I'm good at coming up with new ideas. rate yourself from 1 to 8\n",
      "\n",
      "  1. 1\n",
      "  2. 2\n",
      "  3. 3\n",
      "  4. 4\n",
      "  5. 5\n",
      "  6. 6\n",
      "  7. 7\n",
      "  8. 8\n",
      "? [1-8] 3\n",
      "______________________________________________________________________________\n",
      "I'm curious about how things work. rate yourself from 1 to 8\n",
      "\n",
      "  1. 1\n",
      "  2. 2\n",
      "  3. 3\n",
      "  4. 4\n",
      "  5. 5\n",
      "  6. 6\n",
      "  7. 7\n",
      "  8. 8\n",
      "? [1-8] 3\n",
      "______________________________________________________________________________\n",
      "I appreciate being around diverse groups of people. rate yourself from 1 to 8\n",
      "\n",
      "  1. 1\n",
      "  2. 2\n",
      "  3. 3\n",
      "  4. 4\n",
      "  5. 5\n",
      "  6. 6\n",
      "  7. 7\n",
      "  8. 8\n",
      "? [1-8] 2\n",
      "______________________________________________________________________________\n",
      "I would prefer to have a theoretical discussion rather than making small talk. rate yourself from 1 to 8\n",
      "\n",
      "  1. 1\n",
      "  2. 2\n",
      "  3. 3\n",
      "  4. 4\n",
      "  5. 5\n",
      "  6. 6\n",
      "  7. 7\n",
      "  8. 8\t\t\t\n",
      "? [1-8] 1\n",
      "\n",
      "done\n"
     ]
    }
   ],
   "source": [
    "driver.test_questions()"
   ]
  }
 ],
 "metadata": {
  "kernelspec": {
   "display_name": "Python 3 (ipykernel)",
   "language": "python",
   "name": "python3"
  },
  "language_info": {
   "codemirror_mode": {
    "name": "ipython",
    "version": 3
   },
   "file_extension": ".py",
   "mimetype": "text/x-python",
   "name": "python",
   "nbconvert_exporter": "python",
   "pygments_lexer": "ipython3",
   "version": "3.9.12"
  }
 },
 "nbformat": 4,
 "nbformat_minor": 5
}
