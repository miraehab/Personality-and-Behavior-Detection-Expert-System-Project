{
 "cells": [
  {
   "cell_type": "code",
   "execution_count": 1,
   "id": "e2809be4",
   "metadata": {},
   "outputs": [
    {
     "name": "stderr",
     "output_type": "stream",
     "text": [
      "writing [compiled_krb]/facts.fbc\n",
      "c:\\Python310\\lib\\site-packages\\pyke\\krb_compiler\\kqb_parser.py:35: FutureWarning: Possible nested set at position 122\n",
      "  tokenizer = re.compile(r''' [ \\t\\f\\r\\v]* (?: \\#.* )? (?:\n",
      "writing [compiled_krb]/questions.qbc\n",
      "writing [compiled_krb]/rules_bc.py\n",
      "writing [compiled_krb]/compiled_pyke_files.py\n"
     ]
    }
   ],
   "source": [
    "import sys\n",
    "sys.path.append(\"./Project\")\n",
    "\n",
    "import driver"
   ]
  },
  {
   "cell_type": "code",
   "execution_count": 2,
   "id": "8537f488",
   "metadata": {},
   "outputs": [],
   "source": [
    "import shutil, os\n",
    "if os.path.exists('./Project/compiled_krb/'):\n",
    "    shutil.rmtree('./Project/compiled_krb/')"
   ]
  },
  {
   "cell_type": "code",
   "execution_count": 3,
   "id": "c8c433d8",
   "metadata": {},
   "outputs": [
    {
     "name": "stdout",
     "output_type": "stream",
     "text": [
      "doing proof\n",
      "______________________________________________________________________________\n",
      "______________________________________________________________________________\n",
      "______________________________________________________________________________\n",
      "______________________________________________________________________________\n",
      "______________________________________________________________________________\n",
      "______________________________________________________________________________\n",
      "\n",
      "done\n"
     ]
    }
   ],
   "source": [
    "driver.test_questions()"
   ]
  },
  {
   "cell_type": "code",
   "execution_count": 4,
   "id": "74ffa0d6",
   "metadata": {},
   "outputs": [],
   "source": [
    "\n",
    "#driver.test_questions()"
   ]
  }
 ],
 "metadata": {
  "kernelspec": {
   "display_name": "Python 3",
   "language": "python",
   "name": "python3"
  },
  "language_info": {
   "codemirror_mode": {
    "name": "ipython",
    "version": 3
   },
   "file_extension": ".py",
   "mimetype": "text/x-python",
   "name": "python",
   "nbconvert_exporter": "python",
   "pygments_lexer": "ipython3",
   "version": "3.10.0"
  },
  "vscode": {
   "interpreter": {
    "hash": "369f2c481f4da34e4445cda3fffd2e751bd1c4d706f27375911949ba6bb62e1c"
   }
  }
 },
 "nbformat": 4,
 "nbformat_minor": 5
}
